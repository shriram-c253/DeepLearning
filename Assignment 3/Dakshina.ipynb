{
 "cells": [
  {
   "cell_type": "code",
   "execution_count": 1,
   "id": "manufactured-punishment",
   "metadata": {},
   "outputs": [],
   "source": [
    "# Imports\n",
    "\n",
    "import tensorflow as tf\n",
    "from tensorflow.keras import datasets, models, layers\n",
    "from sklearn.model_selection import train_test_split\n",
    "import wandb\n",
    "from wandb.keras import WandbCallback\n",
    "from matplotlib import pyplot\n",
    "import os\n",
    "import numpy as np"
   ]
  },
  {
   "cell_type": "code",
   "execution_count": 2,
   "id": "viral-latter",
   "metadata": {},
   "outputs": [],
   "source": [
    "# Setting up input flows\n",
    "\n",
    "dataset_path = \"../../dakshina_dataset_v1.0/ta/lexicons\"\n",
    "train_path = dataset_path + \"/ta.translit.sampled.train.tsv\"\n",
    "test_path = dataset_path + \"/ta.translit.sampled.test.tsv\"\n",
    "\n",
    "train_data = ''.join([each.decode('utf-8') for each in open(train_path, 'rb')]).split()\n",
    "y_train, X_train, z_train = train_data[::3], train_data[1::3], [int(each) for each in train_data[2::3]]\n",
    "\n",
    "test_data = ''.join([each.decode('utf-8') for each in open(test_path, 'rb')]).split()\n",
    "y_test, X_test, z_test = test_data[::3], test_data[1::3], [int(each) for each in test_data[2::3]]"
   ]
  },
  {
   "cell_type": "code",
   "execution_count": 3,
   "id": "circular-backing",
   "metadata": {},
   "outputs": [],
   "source": [
    "# Setting up the vocabulary\n",
    "\n",
    "input_vocab, output_vocab = set(), set()\n",
    "\n",
    "max_input_len, max_output_len = 0, 0\n",
    "\n",
    "for each in X_train:\n",
    "    for every in each:\n",
    "        input_vocab.add(every)\n",
    "    max_input_len = max(max_input_len, len(each))\n",
    "for each in X_test:\n",
    "    for every in each:\n",
    "        input_vocab.add(every)\n",
    "    max_input_len = max(max_input_len, len(each))\n",
    "\n",
    "for each in y_train:\n",
    "    for every in each:\n",
    "        output_vocab.add(every)\n",
    "    max_output_len = max(max_output_len, len(each))\n",
    "for each in y_test:\n",
    "    for every in each:\n",
    "        output_vocab.add(every)\n",
    "    max_output_len = max(max_output_len, len(each))\n",
    "        \n",
    "input_vocab.add(\" \")\n",
    "output_vocab.add(\" \")\n",
    "\n",
    "input_vocab = sorted(list(input_vocab))\n",
    "output_vocab = sorted(list(output_vocab))\n",
    "input_v_len = len(input_vocab)\n",
    "output_v_len = len(output_vocab)\n",
    "\n",
    "input_inv = dict([(char, i) for i, char in enumerate(input_vocab)])\n",
    "output_inv = dict([(char, i) for i, char in enumerate(output_vocab)])"
   ]
  },
  {
   "cell_type": "code",
   "execution_count": 4,
   "id": "joined-contrary",
   "metadata": {},
   "outputs": [],
   "source": [
    "def onehot(X, y):\n",
    "    \n",
    "    encoder_input_data = np.zeros((len(X), max_input_len, input_v_len), dtype=\"float32\")\n",
    "    decoder_input_data = np.zeros((len(X), max_output_len, output_v_len), dtype=\"float32\")\n",
    "    decoder_target_data = np.zeros((len(X), max_output_len, output_v_len), dtype=\"float32\")\n",
    "\n",
    "    for i, (a, b) in enumerate(zip(X, y)):\n",
    "        for t, char in enumerate(a):\n",
    "            encoder_input_data[i, t, input_inv[char]] = 1.0\n",
    "        encoder_input_data[i, t + 1 :, output_inv[\" \"]] = 1.0\n",
    "        for t, char in enumerate(b):\n",
    "            decoder_input_data[i, t, output_inv[char]] = 1.0\n",
    "            if t > 0:\n",
    "                decoder_target_data[i, t - 1, output_inv[char]] = 1.0\n",
    "        decoder_input_data[i, t + 1 :, output_inv[\" \"]] = 1.0\n",
    "        decoder_target_data[i, t:, output_inv[\" \"]] = 1.0\n",
    "    \n",
    "    return encoder_input_data, decoder_input_data, decoder_target_data"
   ]
  },
  {
   "cell_type": "code",
   "execution_count": 46,
   "id": "bizarre-christmas",
   "metadata": {},
   "outputs": [],
   "source": [
    "def myRNN(latent_dim, num_encoders = 1, num_decoders = 1, embed_dim = 1000, dropout = 0.0, cell_type = 'GRU'):\n",
    "    encoder_inputs = tf.keras.Input(shape=(None, input_v_len))\n",
    "    #encoder_inputs = layers.Embedding(input_dim=input_v_len, output_dim=embed_dim)(encoder_inputs)\n",
    "    \n",
    "    encoder_inp = encoder_inputs\n",
    "    \n",
    "    for ii in range(num_encoders):\n",
    "        if cell_type == 'LSTM':\n",
    "            encoder = layers.LSTM(latent_dim, return_state=True, return_sequences=True)\n",
    "            encoder_inp, state_h, state_C = encoder(encoder_inp)\n",
    "            encoder_states = [state_h, state_c]\n",
    "        else:\n",
    "            if cell_type == 'SimpleRNN':\n",
    "                encoder = layers.SimpleRNN(latent_dim, return_state=True, return_sequences=True)\n",
    "            else:\n",
    "                encoder = layers.GRU(latent_dim, return_state=True, return_sequences=True)\n",
    "            encoder_inp, state_h = encoder(encoder_inp)\n",
    "            encoder_states = [state_h]\n",
    "    \n",
    "    decoder_inputs = tf.keras.Input(shape=(None, output_v_len))\n",
    "    #decoder_inputs = layers.Embedding(input_dim=output_v_len, output_dim=embed_dim)(decoder_inputs)\n",
    "    \n",
    "    decoder_out = decoder_inputs\n",
    "    temp_states = encoder_states\n",
    "    \n",
    "    for ii in range(num_decoders):\n",
    "        if cell_type == 'LSTM':\n",
    "            decoder = layers.LSTM(latent_dim, return_sequences=True, return_state=True)\n",
    "            decoder_out, temp_state_h, temp_state_c = decoder_RNN(decoder_out, initial_state=temp_states)\n",
    "            temp_states = [temp_state_h, temp_state_c]\n",
    "        else:\n",
    "            if cell_type == 'SimpleRNN':\n",
    "                decoder = layers.SimpleRNN(latent_dim, return_sequences=True, return_state=True)\n",
    "            else:\n",
    "                decoder = layers.GRU(latent_dim, return_sequences=True, return_state=True)\n",
    "            decoder_out, temp_state_h = decoder(decoder_out, initial_state=temp_states)\n",
    "            temp_states = [temp_state_h]\n",
    "    \n",
    "    decoder_outputs = decoder_out\n",
    "    decoder_dense = layers.Dense(output_v_len, activation=\"softmax\")\n",
    "    decoder_dense_drop = layers.Dropout(dropout)(decoder_outputs)\n",
    "    decoder_outputs = decoder_dense(decoder_dense_drop)\n",
    "\n",
    "    model = tf.keras.Model([encoder_inputs, decoder_inputs], decoder_outputs)\n",
    "    \n",
    "    return model"
   ]
  },
  {
   "cell_type": "code",
   "execution_count": 47,
   "id": "psychological-conspiracy",
   "metadata": {},
   "outputs": [],
   "source": [
    "model = myRNN(128, 3, 3)"
   ]
  },
  {
   "cell_type": "code",
   "execution_count": 48,
   "id": "insured-spell",
   "metadata": {},
   "outputs": [
    {
     "name": "stdout",
     "output_type": "stream",
     "text": [
      "Model: \"functional_55\"\n",
      "__________________________________________________________________________________________________\n",
      "Layer (type)                    Output Shape         Param #     Connected to                     \n",
      "==================================================================================================\n",
      "input_17 (InputLayer)           [(None, None, 27)]   0                                            \n",
      "__________________________________________________________________________________________________\n",
      "gru_25 (GRU)                    [(None, None, 128),  60288       input_17[0][0]                   \n",
      "__________________________________________________________________________________________________\n",
      "gru_26 (GRU)                    [(None, None, 128),  99072       gru_25[0][0]                     \n",
      "__________________________________________________________________________________________________\n",
      "input_18 (InputLayer)           [(None, None, 47)]   0                                            \n",
      "__________________________________________________________________________________________________\n",
      "gru_27 (GRU)                    [(None, None, 128),  99072       gru_26[0][0]                     \n",
      "__________________________________________________________________________________________________\n",
      "gru_28 (GRU)                    [(None, None, 128),  67968       input_18[0][0]                   \n",
      "                                                                 gru_27[0][1]                     \n",
      "__________________________________________________________________________________________________\n",
      "gru_29 (GRU)                    [(None, None, 128),  99072       gru_28[0][0]                     \n",
      "                                                                 gru_28[0][1]                     \n",
      "__________________________________________________________________________________________________\n",
      "gru_30 (GRU)                    [(None, None, 128),  99072       gru_29[0][0]                     \n",
      "                                                                 gru_29[0][1]                     \n",
      "__________________________________________________________________________________________________\n",
      "dropout_7 (Dropout)             (None, None, 128)    0           gru_30[0][0]                     \n",
      "__________________________________________________________________________________________________\n",
      "dense_7 (Dense)                 (None, None, 47)     6063        dropout_7[0][0]                  \n",
      "==================================================================================================\n",
      "Total params: 530,607\n",
      "Trainable params: 530,607\n",
      "Non-trainable params: 0\n",
      "__________________________________________________________________________________________________\n"
     ]
    }
   ],
   "source": [
    "model.summary()"
   ]
  },
  {
   "cell_type": "code",
   "execution_count": 49,
   "id": "missing-agriculture",
   "metadata": {},
   "outputs": [],
   "source": [
    "def train(model, batch_size=64, epochs=25):\n",
    "    model.compile(optimizer=\"nadam\", loss=\"categorical_crossentropy\", metrics=[\"accuracy\"])\n",
    "    \n",
    "    aa, bb, cc = onehot(X_train, y_train)\n",
    "    model.fit([aa, bb], cc, batch_size=batch_size, epochs=epochs, validation_split=0.1,)"
   ]
  },
  {
   "cell_type": "code",
   "execution_count": 50,
   "id": "structural-channel",
   "metadata": {},
   "outputs": [
    {
     "name": "stdout",
     "output_type": "stream",
     "text": [
      "Epoch 1/25\n",
      "960/960 [==============================] - 20s 21ms/step - loss: 0.7718 - accuracy: 0.7841 - val_loss: 0.6377 - val_accuracy: 0.8116\n",
      "Epoch 2/25\n",
      "960/960 [==============================] - 18s 19ms/step - loss: 0.4915 - accuracy: 0.8555 - val_loss: 0.4490 - val_accuracy: 0.8737\n",
      "Epoch 3/25\n",
      " 80/960 [=>............................] - ETA: 16s - loss: 0.3547 - accuracy: 0.8961"
     ]
    },
    {
     "ename": "KeyboardInterrupt",
     "evalue": "",
     "output_type": "error",
     "traceback": [
      "\u001b[1;31m---------------------------------------------------------------------------\u001b[0m",
      "\u001b[1;31mKeyboardInterrupt\u001b[0m                         Traceback (most recent call last)",
      "\u001b[1;32m<ipython-input-50-9d3046b5d0d4>\u001b[0m in \u001b[0;36m<module>\u001b[1;34m\u001b[0m\n\u001b[1;32m----> 1\u001b[1;33m \u001b[0mtrain\u001b[0m\u001b[1;33m(\u001b[0m\u001b[0mmodel\u001b[0m\u001b[1;33m)\u001b[0m\u001b[1;33m\u001b[0m\u001b[1;33m\u001b[0m\u001b[0m\n\u001b[0m",
      "\u001b[1;32m<ipython-input-49-10be1c747c5b>\u001b[0m in \u001b[0;36mtrain\u001b[1;34m(model, batch_size, epochs)\u001b[0m\n\u001b[0;32m      3\u001b[0m \u001b[1;33m\u001b[0m\u001b[0m\n\u001b[0;32m      4\u001b[0m     \u001b[0maa\u001b[0m\u001b[1;33m,\u001b[0m \u001b[0mbb\u001b[0m\u001b[1;33m,\u001b[0m \u001b[0mcc\u001b[0m \u001b[1;33m=\u001b[0m \u001b[0monehot\u001b[0m\u001b[1;33m(\u001b[0m\u001b[0mX_train\u001b[0m\u001b[1;33m,\u001b[0m \u001b[0my_train\u001b[0m\u001b[1;33m)\u001b[0m\u001b[1;33m\u001b[0m\u001b[1;33m\u001b[0m\u001b[0m\n\u001b[1;32m----> 5\u001b[1;33m     \u001b[0mmodel\u001b[0m\u001b[1;33m.\u001b[0m\u001b[0mfit\u001b[0m\u001b[1;33m(\u001b[0m\u001b[1;33m[\u001b[0m\u001b[0maa\u001b[0m\u001b[1;33m,\u001b[0m \u001b[0mbb\u001b[0m\u001b[1;33m]\u001b[0m\u001b[1;33m,\u001b[0m \u001b[0mcc\u001b[0m\u001b[1;33m,\u001b[0m \u001b[0mbatch_size\u001b[0m\u001b[1;33m=\u001b[0m\u001b[0mbatch_size\u001b[0m\u001b[1;33m,\u001b[0m \u001b[0mepochs\u001b[0m\u001b[1;33m=\u001b[0m\u001b[0mepochs\u001b[0m\u001b[1;33m,\u001b[0m \u001b[0mvalidation_split\u001b[0m\u001b[1;33m=\u001b[0m\u001b[1;36m0.1\u001b[0m\u001b[1;33m,\u001b[0m\u001b[1;33m)\u001b[0m\u001b[1;33m\u001b[0m\u001b[1;33m\u001b[0m\u001b[0m\n\u001b[0m",
      "\u001b[1;32mC:\\anaconda3\\lib\\site-packages\\wandb\\integration\\keras\\keras.py\u001b[0m in \u001b[0;36mnew_v2\u001b[1;34m(*args, **kwargs)\u001b[0m\n\u001b[0;32m    117\u001b[0m             \u001b[1;32mfor\u001b[0m \u001b[0mcbk\u001b[0m \u001b[1;32min\u001b[0m \u001b[0mcbks\u001b[0m\u001b[1;33m:\u001b[0m\u001b[1;33m\u001b[0m\u001b[1;33m\u001b[0m\u001b[0m\n\u001b[0;32m    118\u001b[0m                 \u001b[0mset_wandb_attrs\u001b[0m\u001b[1;33m(\u001b[0m\u001b[0mcbk\u001b[0m\u001b[1;33m,\u001b[0m \u001b[0mval_data\u001b[0m\u001b[1;33m)\u001b[0m\u001b[1;33m\u001b[0m\u001b[1;33m\u001b[0m\u001b[0m\n\u001b[1;32m--> 119\u001b[1;33m         \u001b[1;32mreturn\u001b[0m \u001b[0mold_v2\u001b[0m\u001b[1;33m(\u001b[0m\u001b[1;33m*\u001b[0m\u001b[0margs\u001b[0m\u001b[1;33m,\u001b[0m \u001b[1;33m**\u001b[0m\u001b[0mkwargs\u001b[0m\u001b[1;33m)\u001b[0m\u001b[1;33m\u001b[0m\u001b[1;33m\u001b[0m\u001b[0m\n\u001b[0m\u001b[0;32m    120\u001b[0m \u001b[1;33m\u001b[0m\u001b[0m\n\u001b[0;32m    121\u001b[0m     \u001b[0mtraining_arrays\u001b[0m\u001b[1;33m.\u001b[0m\u001b[0morig_fit_loop\u001b[0m \u001b[1;33m=\u001b[0m \u001b[0mold_arrays\u001b[0m\u001b[1;33m\u001b[0m\u001b[1;33m\u001b[0m\u001b[0m\n",
      "\u001b[1;32mC:\\anaconda3\\lib\\site-packages\\tensorflow\\python\\keras\\engine\\training.py\u001b[0m in \u001b[0;36m_method_wrapper\u001b[1;34m(self, *args, **kwargs)\u001b[0m\n\u001b[0;32m    106\u001b[0m   \u001b[1;32mdef\u001b[0m \u001b[0m_method_wrapper\u001b[0m\u001b[1;33m(\u001b[0m\u001b[0mself\u001b[0m\u001b[1;33m,\u001b[0m \u001b[1;33m*\u001b[0m\u001b[0margs\u001b[0m\u001b[1;33m,\u001b[0m \u001b[1;33m**\u001b[0m\u001b[0mkwargs\u001b[0m\u001b[1;33m)\u001b[0m\u001b[1;33m:\u001b[0m\u001b[1;33m\u001b[0m\u001b[1;33m\u001b[0m\u001b[0m\n\u001b[0;32m    107\u001b[0m     \u001b[1;32mif\u001b[0m \u001b[1;32mnot\u001b[0m \u001b[0mself\u001b[0m\u001b[1;33m.\u001b[0m\u001b[0m_in_multi_worker_mode\u001b[0m\u001b[1;33m(\u001b[0m\u001b[1;33m)\u001b[0m\u001b[1;33m:\u001b[0m  \u001b[1;31m# pylint: disable=protected-access\u001b[0m\u001b[1;33m\u001b[0m\u001b[1;33m\u001b[0m\u001b[0m\n\u001b[1;32m--> 108\u001b[1;33m       \u001b[1;32mreturn\u001b[0m \u001b[0mmethod\u001b[0m\u001b[1;33m(\u001b[0m\u001b[0mself\u001b[0m\u001b[1;33m,\u001b[0m \u001b[1;33m*\u001b[0m\u001b[0margs\u001b[0m\u001b[1;33m,\u001b[0m \u001b[1;33m**\u001b[0m\u001b[0mkwargs\u001b[0m\u001b[1;33m)\u001b[0m\u001b[1;33m\u001b[0m\u001b[1;33m\u001b[0m\u001b[0m\n\u001b[0m\u001b[0;32m    109\u001b[0m \u001b[1;33m\u001b[0m\u001b[0m\n\u001b[0;32m    110\u001b[0m     \u001b[1;31m# Running inside `run_distribute_coordinator` already.\u001b[0m\u001b[1;33m\u001b[0m\u001b[1;33m\u001b[0m\u001b[1;33m\u001b[0m\u001b[0m\n",
      "\u001b[1;32mC:\\anaconda3\\lib\\site-packages\\tensorflow\\python\\keras\\engine\\training.py\u001b[0m in \u001b[0;36mfit\u001b[1;34m(self, x, y, batch_size, epochs, verbose, callbacks, validation_split, validation_data, shuffle, class_weight, sample_weight, initial_epoch, steps_per_epoch, validation_steps, validation_batch_size, validation_freq, max_queue_size, workers, use_multiprocessing)\u001b[0m\n\u001b[0;32m   1096\u001b[0m                 batch_size=batch_size):\n\u001b[0;32m   1097\u001b[0m               \u001b[0mcallbacks\u001b[0m\u001b[1;33m.\u001b[0m\u001b[0mon_train_batch_begin\u001b[0m\u001b[1;33m(\u001b[0m\u001b[0mstep\u001b[0m\u001b[1;33m)\u001b[0m\u001b[1;33m\u001b[0m\u001b[1;33m\u001b[0m\u001b[0m\n\u001b[1;32m-> 1098\u001b[1;33m               \u001b[0mtmp_logs\u001b[0m \u001b[1;33m=\u001b[0m \u001b[0mtrain_function\u001b[0m\u001b[1;33m(\u001b[0m\u001b[0miterator\u001b[0m\u001b[1;33m)\u001b[0m\u001b[1;33m\u001b[0m\u001b[1;33m\u001b[0m\u001b[0m\n\u001b[0m\u001b[0;32m   1099\u001b[0m               \u001b[1;32mif\u001b[0m \u001b[0mdata_handler\u001b[0m\u001b[1;33m.\u001b[0m\u001b[0mshould_sync\u001b[0m\u001b[1;33m:\u001b[0m\u001b[1;33m\u001b[0m\u001b[1;33m\u001b[0m\u001b[0m\n\u001b[0;32m   1100\u001b[0m                 \u001b[0mcontext\u001b[0m\u001b[1;33m.\u001b[0m\u001b[0masync_wait\u001b[0m\u001b[1;33m(\u001b[0m\u001b[1;33m)\u001b[0m\u001b[1;33m\u001b[0m\u001b[1;33m\u001b[0m\u001b[0m\n",
      "\u001b[1;32mC:\\anaconda3\\lib\\site-packages\\tensorflow\\python\\eager\\def_function.py\u001b[0m in \u001b[0;36m__call__\u001b[1;34m(self, *args, **kwds)\u001b[0m\n\u001b[0;32m    778\u001b[0m       \u001b[1;32melse\u001b[0m\u001b[1;33m:\u001b[0m\u001b[1;33m\u001b[0m\u001b[1;33m\u001b[0m\u001b[0m\n\u001b[0;32m    779\u001b[0m         \u001b[0mcompiler\u001b[0m \u001b[1;33m=\u001b[0m \u001b[1;34m\"nonXla\"\u001b[0m\u001b[1;33m\u001b[0m\u001b[1;33m\u001b[0m\u001b[0m\n\u001b[1;32m--> 780\u001b[1;33m         \u001b[0mresult\u001b[0m \u001b[1;33m=\u001b[0m \u001b[0mself\u001b[0m\u001b[1;33m.\u001b[0m\u001b[0m_call\u001b[0m\u001b[1;33m(\u001b[0m\u001b[1;33m*\u001b[0m\u001b[0margs\u001b[0m\u001b[1;33m,\u001b[0m \u001b[1;33m**\u001b[0m\u001b[0mkwds\u001b[0m\u001b[1;33m)\u001b[0m\u001b[1;33m\u001b[0m\u001b[1;33m\u001b[0m\u001b[0m\n\u001b[0m\u001b[0;32m    781\u001b[0m \u001b[1;33m\u001b[0m\u001b[0m\n\u001b[0;32m    782\u001b[0m       \u001b[0mnew_tracing_count\u001b[0m \u001b[1;33m=\u001b[0m \u001b[0mself\u001b[0m\u001b[1;33m.\u001b[0m\u001b[0m_get_tracing_count\u001b[0m\u001b[1;33m(\u001b[0m\u001b[1;33m)\u001b[0m\u001b[1;33m\u001b[0m\u001b[1;33m\u001b[0m\u001b[0m\n",
      "\u001b[1;32mC:\\anaconda3\\lib\\site-packages\\tensorflow\\python\\eager\\def_function.py\u001b[0m in \u001b[0;36m_call\u001b[1;34m(self, *args, **kwds)\u001b[0m\n\u001b[0;32m    805\u001b[0m       \u001b[1;31m# In this case we have created variables on the first call, so we run the\u001b[0m\u001b[1;33m\u001b[0m\u001b[1;33m\u001b[0m\u001b[1;33m\u001b[0m\u001b[0m\n\u001b[0;32m    806\u001b[0m       \u001b[1;31m# defunned version which is guaranteed to never create variables.\u001b[0m\u001b[1;33m\u001b[0m\u001b[1;33m\u001b[0m\u001b[1;33m\u001b[0m\u001b[0m\n\u001b[1;32m--> 807\u001b[1;33m       \u001b[1;32mreturn\u001b[0m \u001b[0mself\u001b[0m\u001b[1;33m.\u001b[0m\u001b[0m_stateless_fn\u001b[0m\u001b[1;33m(\u001b[0m\u001b[1;33m*\u001b[0m\u001b[0margs\u001b[0m\u001b[1;33m,\u001b[0m \u001b[1;33m**\u001b[0m\u001b[0mkwds\u001b[0m\u001b[1;33m)\u001b[0m  \u001b[1;31m# pylint: disable=not-callable\u001b[0m\u001b[1;33m\u001b[0m\u001b[1;33m\u001b[0m\u001b[0m\n\u001b[0m\u001b[0;32m    808\u001b[0m     \u001b[1;32melif\u001b[0m \u001b[0mself\u001b[0m\u001b[1;33m.\u001b[0m\u001b[0m_stateful_fn\u001b[0m \u001b[1;32mis\u001b[0m \u001b[1;32mnot\u001b[0m \u001b[1;32mNone\u001b[0m\u001b[1;33m:\u001b[0m\u001b[1;33m\u001b[0m\u001b[1;33m\u001b[0m\u001b[0m\n\u001b[0;32m    809\u001b[0m       \u001b[1;31m# Release the lock early so that multiple threads can perform the call\u001b[0m\u001b[1;33m\u001b[0m\u001b[1;33m\u001b[0m\u001b[1;33m\u001b[0m\u001b[0m\n",
      "\u001b[1;32mC:\\anaconda3\\lib\\site-packages\\tensorflow\\python\\eager\\function.py\u001b[0m in \u001b[0;36m__call__\u001b[1;34m(self, *args, **kwargs)\u001b[0m\n\u001b[0;32m   2827\u001b[0m     \u001b[1;32mwith\u001b[0m \u001b[0mself\u001b[0m\u001b[1;33m.\u001b[0m\u001b[0m_lock\u001b[0m\u001b[1;33m:\u001b[0m\u001b[1;33m\u001b[0m\u001b[1;33m\u001b[0m\u001b[0m\n\u001b[0;32m   2828\u001b[0m       \u001b[0mgraph_function\u001b[0m\u001b[1;33m,\u001b[0m \u001b[0margs\u001b[0m\u001b[1;33m,\u001b[0m \u001b[0mkwargs\u001b[0m \u001b[1;33m=\u001b[0m \u001b[0mself\u001b[0m\u001b[1;33m.\u001b[0m\u001b[0m_maybe_define_function\u001b[0m\u001b[1;33m(\u001b[0m\u001b[0margs\u001b[0m\u001b[1;33m,\u001b[0m \u001b[0mkwargs\u001b[0m\u001b[1;33m)\u001b[0m\u001b[1;33m\u001b[0m\u001b[1;33m\u001b[0m\u001b[0m\n\u001b[1;32m-> 2829\u001b[1;33m     \u001b[1;32mreturn\u001b[0m \u001b[0mgraph_function\u001b[0m\u001b[1;33m.\u001b[0m\u001b[0m_filtered_call\u001b[0m\u001b[1;33m(\u001b[0m\u001b[0margs\u001b[0m\u001b[1;33m,\u001b[0m \u001b[0mkwargs\u001b[0m\u001b[1;33m)\u001b[0m  \u001b[1;31m# pylint: disable=protected-access\u001b[0m\u001b[1;33m\u001b[0m\u001b[1;33m\u001b[0m\u001b[0m\n\u001b[0m\u001b[0;32m   2830\u001b[0m \u001b[1;33m\u001b[0m\u001b[0m\n\u001b[0;32m   2831\u001b[0m   \u001b[1;33m@\u001b[0m\u001b[0mproperty\u001b[0m\u001b[1;33m\u001b[0m\u001b[1;33m\u001b[0m\u001b[0m\n",
      "\u001b[1;32mC:\\anaconda3\\lib\\site-packages\\tensorflow\\python\\eager\\function.py\u001b[0m in \u001b[0;36m_filtered_call\u001b[1;34m(self, args, kwargs, cancellation_manager)\u001b[0m\n\u001b[0;32m   1841\u001b[0m       \u001b[0;31m`\u001b[0m\u001b[0margs\u001b[0m\u001b[0;31m`\u001b[0m \u001b[1;32mand\u001b[0m\u001b[0;31m \u001b[0m\u001b[0;31m`\u001b[0m\u001b[0mkwargs\u001b[0m\u001b[0;31m`\u001b[0m\u001b[1;33m.\u001b[0m\u001b[1;33m\u001b[0m\u001b[1;33m\u001b[0m\u001b[0m\n\u001b[0;32m   1842\u001b[0m     \"\"\"\n\u001b[1;32m-> 1843\u001b[1;33m     return self._call_flat(\n\u001b[0m\u001b[0;32m   1844\u001b[0m         [t for t in nest.flatten((args, kwargs), expand_composites=True)\n\u001b[0;32m   1845\u001b[0m          if isinstance(t, (ops.Tensor,\n",
      "\u001b[1;32mC:\\anaconda3\\lib\\site-packages\\tensorflow\\python\\eager\\function.py\u001b[0m in \u001b[0;36m_call_flat\u001b[1;34m(self, args, captured_inputs, cancellation_manager)\u001b[0m\n\u001b[0;32m   1921\u001b[0m         and executing_eagerly):\n\u001b[0;32m   1922\u001b[0m       \u001b[1;31m# No tape is watching; skip to running the function.\u001b[0m\u001b[1;33m\u001b[0m\u001b[1;33m\u001b[0m\u001b[1;33m\u001b[0m\u001b[0m\n\u001b[1;32m-> 1923\u001b[1;33m       return self._build_call_outputs(self._inference_function.call(\n\u001b[0m\u001b[0;32m   1924\u001b[0m           ctx, args, cancellation_manager=cancellation_manager))\n\u001b[0;32m   1925\u001b[0m     forward_backward = self._select_forward_and_backward_functions(\n",
      "\u001b[1;32mC:\\anaconda3\\lib\\site-packages\\tensorflow\\python\\eager\\function.py\u001b[0m in \u001b[0;36mcall\u001b[1;34m(self, ctx, args, cancellation_manager)\u001b[0m\n\u001b[0;32m    543\u001b[0m       \u001b[1;32mwith\u001b[0m \u001b[0m_InterpolateFunctionError\u001b[0m\u001b[1;33m(\u001b[0m\u001b[0mself\u001b[0m\u001b[1;33m)\u001b[0m\u001b[1;33m:\u001b[0m\u001b[1;33m\u001b[0m\u001b[1;33m\u001b[0m\u001b[0m\n\u001b[0;32m    544\u001b[0m         \u001b[1;32mif\u001b[0m \u001b[0mcancellation_manager\u001b[0m \u001b[1;32mis\u001b[0m \u001b[1;32mNone\u001b[0m\u001b[1;33m:\u001b[0m\u001b[1;33m\u001b[0m\u001b[1;33m\u001b[0m\u001b[0m\n\u001b[1;32m--> 545\u001b[1;33m           outputs = execute.execute(\n\u001b[0m\u001b[0;32m    546\u001b[0m               \u001b[0mstr\u001b[0m\u001b[1;33m(\u001b[0m\u001b[0mself\u001b[0m\u001b[1;33m.\u001b[0m\u001b[0msignature\u001b[0m\u001b[1;33m.\u001b[0m\u001b[0mname\u001b[0m\u001b[1;33m)\u001b[0m\u001b[1;33m,\u001b[0m\u001b[1;33m\u001b[0m\u001b[1;33m\u001b[0m\u001b[0m\n\u001b[0;32m    547\u001b[0m               \u001b[0mnum_outputs\u001b[0m\u001b[1;33m=\u001b[0m\u001b[0mself\u001b[0m\u001b[1;33m.\u001b[0m\u001b[0m_num_outputs\u001b[0m\u001b[1;33m,\u001b[0m\u001b[1;33m\u001b[0m\u001b[1;33m\u001b[0m\u001b[0m\n",
      "\u001b[1;32mC:\\anaconda3\\lib\\site-packages\\tensorflow\\python\\eager\\execute.py\u001b[0m in \u001b[0;36mquick_execute\u001b[1;34m(op_name, num_outputs, inputs, attrs, ctx, name)\u001b[0m\n\u001b[0;32m     57\u001b[0m   \u001b[1;32mtry\u001b[0m\u001b[1;33m:\u001b[0m\u001b[1;33m\u001b[0m\u001b[1;33m\u001b[0m\u001b[0m\n\u001b[0;32m     58\u001b[0m     \u001b[0mctx\u001b[0m\u001b[1;33m.\u001b[0m\u001b[0mensure_initialized\u001b[0m\u001b[1;33m(\u001b[0m\u001b[1;33m)\u001b[0m\u001b[1;33m\u001b[0m\u001b[1;33m\u001b[0m\u001b[0m\n\u001b[1;32m---> 59\u001b[1;33m     tensors = pywrap_tfe.TFE_Py_Execute(ctx._handle, device_name, op_name,\n\u001b[0m\u001b[0;32m     60\u001b[0m                                         inputs, attrs, num_outputs)\n\u001b[0;32m     61\u001b[0m   \u001b[1;32mexcept\u001b[0m \u001b[0mcore\u001b[0m\u001b[1;33m.\u001b[0m\u001b[0m_NotOkStatusException\u001b[0m \u001b[1;32mas\u001b[0m \u001b[0me\u001b[0m\u001b[1;33m:\u001b[0m\u001b[1;33m\u001b[0m\u001b[1;33m\u001b[0m\u001b[0m\n",
      "\u001b[1;31mKeyboardInterrupt\u001b[0m: "
     ]
    }
   ],
   "source": [
    "train(model)"
   ]
  },
  {
   "cell_type": "code",
   "execution_count": 15,
   "id": "fourth-payday",
   "metadata": {},
   "outputs": [],
   "source": [
    "def decompose(model):\n",
    "    latent_dim = model.layers[3].units\n",
    "    \n",
    "    encoder_inputs = model.input[0]\n",
    "    _, state_h_enc = model.layers[2].output\n",
    "    encoder_states = [state_h_enc]\n",
    "    encoder_model = tf.keras.Model(encoder_inputs, encoder_states)\n",
    "\n",
    "    decoder_inputs = model.input[1]\n",
    "    decoder_state_input_h = tf.keras.Input(shape=(latent_dim,), name=\"input_3\")\n",
    "    decoder_states_inputs = [decoder_state_input_h]\n",
    "    decoder_RNN = model.layers[3]\n",
    "    decoder_outputs, state_h_dec = decoder_RNN(decoder_inputs, initial_state=decoder_states_inputs)\n",
    "    decoder_states = [state_h_dec]\n",
    "    decoder_dropout = model.layers[4]\n",
    "    decoder_outputs = decoder_dropout(decoder_outputs)\n",
    "    decoder_dense = model.layers[5]\n",
    "    decoder_outputs = decoder_dense(decoder_outputs)\n",
    "    decoder_model = tf.keras.Model([decoder_inputs] + decoder_states_inputs, [decoder_outputs] + decoder_states)\n",
    "    \n",
    "    return encoder_model, decoder_model"
   ]
  },
  {
   "cell_type": "code",
   "execution_count": 16,
   "id": "periodic-violence",
   "metadata": {},
   "outputs": [
    {
     "name": "stdout",
     "output_type": "stream",
     "text": [
      "Model: \"functional_11\"\n",
      "_________________________________________________________________\n",
      "Layer (type)                 Output Shape              Param #   \n",
      "=================================================================\n",
      "input_1 (InputLayer)         [(None, None, 27)]        0         \n",
      "_________________________________________________________________\n",
      "gru (GRU)                    [(None, 128), (None, 128) 60288     \n",
      "=================================================================\n",
      "Total params: 60,288\n",
      "Trainable params: 60,288\n",
      "Non-trainable params: 0\n",
      "_________________________________________________________________\n",
      "Model: \"functional_13\"\n",
      "__________________________________________________________________________________________________\n",
      "Layer (type)                    Output Shape         Param #     Connected to                     \n",
      "==================================================================================================\n",
      "input_2 (InputLayer)            [(None, None, 47)]   0                                            \n",
      "__________________________________________________________________________________________________\n",
      "input_3 (InputLayer)            [(None, 128)]        0                                            \n",
      "__________________________________________________________________________________________________\n",
      "gru_1 (GRU)                     [(None, None, 128),  67968       input_2[0][0]                    \n",
      "                                                                 input_3[0][0]                    \n",
      "__________________________________________________________________________________________________\n",
      "dropout (Dropout)               (None, None, 128)    0           gru_1[3][0]                      \n",
      "__________________________________________________________________________________________________\n",
      "dense (Dense)                   (None, None, 47)     6063        dropout[3][0]                    \n",
      "==================================================================================================\n",
      "Total params: 74,031\n",
      "Trainable params: 74,031\n",
      "Non-trainable params: 0\n",
      "__________________________________________________________________________________________________\n"
     ]
    }
   ],
   "source": [
    "ok, okok = decompose(model)\n",
    "ok.summary()\n",
    "okok.summary()"
   ]
  },
  {
   "cell_type": "code",
   "execution_count": 17,
   "id": "african-teddy",
   "metadata": {},
   "outputs": [
    {
     "name": "stdout",
     "output_type": "stream",
     "text": [
      "(None, None, 27) (None, 128)\n",
      "(None, None, 47) (None, 128) (None, None, 47) (None, 128)\n"
     ]
    }
   ],
   "source": [
    "print(ok.input.shape, ok.output.shape)\n",
    "print(okok.input[0].shape, okok.input[1].shape, okok.output[0].shape, okok.output[1].shape)"
   ]
  },
  {
   "cell_type": "code",
   "execution_count": 19,
   "id": "american-netscape",
   "metadata": {},
   "outputs": [],
   "source": [
    "# Decode the sequence\n",
    "\n",
    "reverse_inp = dict((i, char) for char, i in input_inv.items())\n",
    "reverse_out = dict((i, char) for char, i in output_inv.items())\n",
    "\n",
    "def decode_sequence(model, input_seq):\n",
    "    \n",
    "    encoder_model, decoder_model = decompose(model)\n",
    "    \n",
    "    enc_states = encoder_model.predict(input_seq)\n",
    "\n",
    "    target_seq = np.zeros((1, 1, output_v_len))\n",
    "    target_seq[0, 0, output_inv[\" \"]] = 1.0\n",
    "\n",
    "    stop_condition = False\n",
    "    final_ans = \"\"\n",
    "    while not stop_condition:\n",
    "        output_chars, h = decoder_model.predict([target_seq] + [enc_states])\n",
    "\n",
    "        sampled_char_index = np.argmax(output_chars[0, -1, :])\n",
    "        sampled_char = reverse_out[sampled_char_index]\n",
    "        final_ans += sampled_char\n",
    "\n",
    "        if sampled_char == \" \" or len(final_ans) > max_output_len:\n",
    "            stop_condition = True\n",
    "\n",
    "        target_seq = np.zeros((1, 1, output_v_len))\n",
    "        target_seq[0, 0, sampled_char_index] = 1.0\n",
    "\n",
    "        enc_states = [h]\n",
    "    return final_ans"
   ]
  },
  {
   "cell_type": "code",
   "execution_count": 27,
   "id": "signed-symphony",
   "metadata": {},
   "outputs": [
    {
     "data": {
      "text/plain": [
       "'க்ஸாதிரவர் '"
      ]
     },
     "execution_count": 27,
     "metadata": {},
     "output_type": "execute_result"
    }
   ],
   "source": [
    "n = 50\n",
    "aa, bb, cc = onehot(X_train, y_train)\n",
    "decode_sequence(model, aa[n:n+1])"
   ]
  },
  {
   "cell_type": "code",
   "execution_count": null,
   "id": "sexual-stewart",
   "metadata": {},
   "outputs": [],
   "source": [
    "list(np.array([[1, 2], [1, 2]]))"
   ]
  },
  {
   "cell_type": "code",
   "execution_count": null,
   "id": "residential-composer",
   "metadata": {},
   "outputs": [],
   "source": [
    "sweep_config = {\n",
    "    'method': 'grid',\n",
    "    'metric': {\n",
    "        'name': 'accuracy',\n",
    "        'goal': 'maximize'\n",
    "    },\n",
    "    'parameters': {\n",
    "        'model': {\n",
    "            'values': [\n",
    "                'InceptionV3', 'InceptionResNetV2', 'ResNet50', 'Xception',\n",
    "                'NASNetLarge'\n",
    "            ]\n",
    "        },\n",
    "        'retrain': {\n",
    "            'values': [0.1, 0.15, 0.2]\n",
    "        }\n",
    "    }\n",
    "}"
   ]
  }
 ],
 "metadata": {
  "kernelspec": {
   "display_name": "Python 3",
   "language": "python",
   "name": "python3"
  },
  "language_info": {
   "codemirror_mode": {
    "name": "ipython",
    "version": 3
   },
   "file_extension": ".py",
   "mimetype": "text/x-python",
   "name": "python",
   "nbconvert_exporter": "python",
   "pygments_lexer": "ipython3",
   "version": "3.8.5"
  }
 },
 "nbformat": 4,
 "nbformat_minor": 5
}
