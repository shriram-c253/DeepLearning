{
 "cells": [
  {
   "cell_type": "code",
   "execution_count": 1,
   "id": "urban-tourism",
   "metadata": {},
   "outputs": [],
   "source": [
    "# Imports\n",
    "\n",
    "import tensorflow as tf\n",
    "from tensorflow.keras import datasets, models, layers\n",
    "from sklearn.model_selection import train_test_split\n",
    "import wandb\n",
    "from wandb.keras import WandbCallback\n",
    "from matplotlib import pyplot\n",
    "import os\n",
    "import numpy as np"
   ]
  },
  {
   "cell_type": "code",
   "execution_count": 2,
   "id": "brazilian-knitting",
   "metadata": {},
   "outputs": [],
   "source": [
    "# Setting up input flows\n",
    "\n",
    "dataset_path = \"../../dakshina_dataset_v1.0/ta/lexicons\"\n",
    "train_path = dataset_path + \"/ta.translit.sampled.train.tsv\"\n",
    "test_path = dataset_path + \"/ta.translit.sampled.test.tsv\"\n",
    "\n",
    "train_data = ''.join([each.decode('utf-8') for each in open(train_path, 'rb')]).split()\n",
    "y_train, X_train, z_train = train_data[::3], train_data[1::3], [int(each) for each in train_data[2::3]]\n",
    "\n",
    "test_data = ''.join([each.decode('utf-8') for each in open(test_path, 'rb')]).split()\n",
    "y_test, X_test, z_test = test_data[::3], test_data[1::3], [int(each) for each in test_data[2::3]]"
   ]
  },
  {
   "cell_type": "code",
   "execution_count": 3,
   "id": "formal-israeli",
   "metadata": {},
   "outputs": [],
   "source": [
    "# Setting up the vocabulary\n",
    "\n",
    "input_vocab, output_vocab = set(), set()\n",
    "\n",
    "for each in X_train:\n",
    "    for every in each:\n",
    "        input_vocab.add(every)\n",
    "for each in X_test:\n",
    "    for every in each:\n",
    "        input_vocab.add(every)\n",
    "\n",
    "for each in y_train:\n",
    "    for every in each:\n",
    "        output_vocab.add(every)\n",
    "for each in y_test:\n",
    "    for every in each:\n",
    "        output_vocab.add(every)\n",
    "        \n",
    "input_vocab.add(\"\")\n",
    "output_vocab.add(\"\")\n",
    "\n",
    "input_vocab = sorted(list(input_vocab))\n",
    "output_vocab = sorted(list(output_vocab))\n",
    "input_v_len = len(input_vocab)\n",
    "output_v_len = len(output_vocab)\n",
    "\n",
    "input_inv = dict([(char, i) for i, char in enumerate(input_vocab)])\n",
    "output_inv = dict([(char, i) for i, char in enumerate(output_vocab)])"
   ]
  },
  {
   "cell_type": "code",
   "execution_count": 4,
   "id": "selected-migration",
   "metadata": {},
   "outputs": [],
   "source": [
    "def onehot(X, y):\n",
    "    max_input_len, max_output_len = 0, 0\n",
    "    for each in X:\n",
    "        max_input_len = max(max_input_len, len(each))\n",
    "    for each in y:\n",
    "        max_output_len = max(max_output_len, len(each))\n",
    "    \n",
    "    encoder_input_data = np.zeros((len(X), max_input_len, input_v_len), dtype=\"float32\")\n",
    "    decoder_input_data = np.zeros((len(X), max_output_len, output_v_len), dtype=\"float32\")\n",
    "    decoder_target_data = np.zeros((len(X), max_output_len, output_v_len), dtype=\"float32\")\n",
    "\n",
    "    for i, (a, b) in enumerate(zip(X, y)):\n",
    "        for t, char in enumerate(a):\n",
    "            encoder_input_data[i, t, input_inv[char]] = 1.0\n",
    "        encoder_input_data[i, t + 1 :, output_inv[\"\"]] = 1.0\n",
    "        for t, char in enumerate(b):\n",
    "            decoder_input_data[i, t, output_inv[char]] = 1.0\n",
    "            if t > 0:\n",
    "                decoder_target_data[i, t - 1, output_inv[char]] = 1.0\n",
    "        decoder_input_data[i, t + 1 :, output_inv[\"\"]] = 1.0\n",
    "        decoder_target_data[i, t:, output_inv[\"\"]] = 1.0\n",
    "    \n",
    "    return encoder_input_data, decoder_input_data, decoder_target_data"
   ]
  },
  {
   "cell_type": "code",
   "execution_count": 22,
   "id": "recreational-covering",
   "metadata": {},
   "outputs": [],
   "source": [
    "def myRNN(latent_dim):\n",
    "    encoder_inputs = tf.keras.Input(shape=(None, input_v_len))\n",
    "    encoder = layers.SimpleRNN(latent_dim, return_state=True)\n",
    "    _, state_h = encoder(encoder_inputs)\n",
    "    encoder_states = [state_h]\n",
    "    \n",
    "    decoder_inputs = tf.keras.Input(shape=(None, output_v_len))\n",
    "    decoder_RNN = layers.SimpleRNN(latent_dim, return_sequences=True, return_state=True)\n",
    "    decoder_outputs, _ = decoder_RNN(decoder_inputs, initial_state=encoder_states)\n",
    "    decoder_dense = layers.Dense(output_v_len, activation=\"softmax\")\n",
    "    decoder_outputs = decoder_dense(decoder_outputs)\n",
    "\n",
    "    model = tf.keras.Model([encoder_inputs, decoder_inputs], decoder_outputs)\n",
    "    \n",
    "    return model"
   ]
  },
  {
   "cell_type": "code",
   "execution_count": 23,
   "id": "fleet-trading",
   "metadata": {},
   "outputs": [],
   "source": [
    "model = myRNN(128)"
   ]
  },
  {
   "cell_type": "code",
   "execution_count": 24,
   "id": "amateur-investigation",
   "metadata": {},
   "outputs": [
    {
     "name": "stdout",
     "output_type": "stream",
     "text": [
      "Model: \"functional_5\"\n",
      "__________________________________________________________________________________________________\n",
      "Layer (type)                    Output Shape         Param #     Connected to                     \n",
      "==================================================================================================\n",
      "input_11 (InputLayer)           [(None, None, 27)]   0                                            \n",
      "__________________________________________________________________________________________________\n",
      "input_12 (InputLayer)           [(None, None, 47)]   0                                            \n",
      "__________________________________________________________________________________________________\n",
      "simple_rnn_10 (SimpleRNN)       [(None, 128), (None, 19968       input_11[0][0]                   \n",
      "__________________________________________________________________________________________________\n",
      "simple_rnn_11 (SimpleRNN)       [(None, None, 128),  22528       input_12[0][0]                   \n",
      "                                                                 simple_rnn_10[0][1]              \n",
      "__________________________________________________________________________________________________\n",
      "dense_3 (Dense)                 (None, None, 47)     6063        simple_rnn_11[0][0]              \n",
      "==================================================================================================\n",
      "Total params: 48,559\n",
      "Trainable params: 48,559\n",
      "Non-trainable params: 0\n",
      "__________________________________________________________________________________________________\n"
     ]
    }
   ],
   "source": [
    "model.summary()"
   ]
  },
  {
   "cell_type": "code",
   "execution_count": 25,
   "id": "academic-infection",
   "metadata": {},
   "outputs": [],
   "source": [
    "def train(batch_size=64, epochs=2):\n",
    "    model.compile(optimizer=\"nadam\", loss=\"categorical_crossentropy\", metrics=[\"accuracy\"])\n",
    "    \n",
    "    aa, bb, cc = onehot(X_train, y_train)\n",
    "    model.fit([aa, bb], cc, batch_size=batch_size, epochs=epochs, validation_split=0.1,)"
   ]
  },
  {
   "cell_type": "code",
   "execution_count": null,
   "id": "velvet-spell",
   "metadata": {},
   "outputs": [],
   "source": []
  }
 ],
 "metadata": {
  "kernelspec": {
   "display_name": "Python 3",
   "language": "python",
   "name": "python3"
  },
  "language_info": {
   "codemirror_mode": {
    "name": "ipython",
    "version": 3
   },
   "file_extension": ".py",
   "mimetype": "text/x-python",
   "name": "python",
   "nbconvert_exporter": "python",
   "pygments_lexer": "ipython3",
   "version": "3.8.5"
  }
 },
 "nbformat": 4,
 "nbformat_minor": 5
}
