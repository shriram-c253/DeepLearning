{
 "cells": [
  {
   "cell_type": "code",
   "execution_count": null,
   "metadata": {},
   "outputs": [],
   "source": [
    "# Imports\n",
    "\n",
    "import tensorflow as tf\n",
    "from tensorflow.keras import datasets, models, layers\n",
    "from sklearn.model_selection import train_test_split\n",
    "import wandb\n",
    "from wandb.keras import WandbCallback\n",
    "from matplotlib import pyplot\n",
    "import os\n",
    "import numpy as np"
   ]
  },
  {
   "cell_type": "code",
   "execution_count": null,
   "metadata": {},
   "outputs": [],
   "source": [
    "# Setting up input flows\n",
    "\n",
    "dataset_path = \"../../dakshina_dataset_v1.0/ta/lexicons\"\n",
    "train_path = dataset_path + \"/ta.translit.sampled.train.tsv\"\n",
    "test_path = dataset_path + \"/ta.translit.sampled.test.tsv\"\n",
    "\n",
    "train_data = ''.join([each.decode('utf-8') for each in open(train_path, 'rb')]).split()\n",
    "y_train, X_train, z_train = train_data[::3], train_data[1::3], [int(each) for each in train_data[2::3]]\n",
    "\n",
    "test_data = ''.join([each.decode('utf-8') for each in open(test_path, 'rb')]).split()\n",
    "y_test, X_test, z_test = test_data[::3], test_data[1::3], [int(each) for each in test_data[2::3]]"
   ]
  },
  {
   "cell_type": "code",
   "execution_count": null,
   "metadata": {},
   "outputs": [],
   "source": [
    "# Setting up the vocabulary\n",
    "\n",
    "input_vocab, output_vocab = set(), set()\n",
    "\n",
    "max_input_len, max_output_len = 0, 0\n",
    "\n",
    "for each in X_train:\n",
    "    for every in each:\n",
    "        input_vocab.add(every)\n",
    "    max_input_len = max(max_input_len, len(each))\n",
    "for each in X_test:\n",
    "    for every in each:\n",
    "        input_vocab.add(every)\n",
    "    max_input_len = max(max_input_len, len(each))\n",
    "\n",
    "for each in y_train:\n",
    "    for every in each:\n",
    "        output_vocab.add(every)\n",
    "    max_output_len = max(max_output_len, len(each))\n",
    "for each in y_test:\n",
    "    for every in each:\n",
    "        output_vocab.add(every)\n",
    "    max_output_len = max(max_output_len, len(each))\n",
    "        \n",
    "input_vocab.add(\" \")\n",
    "output_vocab.add(\" \")\n",
    "\n",
    "input_vocab = sorted(list(input_vocab))\n",
    "output_vocab = sorted(list(output_vocab))\n",
    "input_v_len = len(input_vocab)\n",
    "output_v_len = len(output_vocab)\n",
    "\n",
    "input_inv = dict([(char, i) for i, char in enumerate(input_vocab)])\n",
    "output_inv = dict([(char, i) for i, char in enumerate(output_vocab)])"
   ]
  },
  {
   "cell_type": "code",
   "execution_count": null,
   "metadata": {},
   "outputs": [],
   "source": [
    "def onehot(X, y):\n",
    "    \n",
    "    encoder_input_data = np.zeros((len(X), max_input_len, input_v_len), dtype=\"float32\")\n",
    "    decoder_input_data = np.zeros((len(X), max_output_len, output_v_len), dtype=\"float32\")\n",
    "    decoder_target_data = np.zeros((len(X), max_output_len, output_v_len), dtype=\"float32\")\n",
    "\n",
    "    for i, (a, b) in enumerate(zip(X, y)):\n",
    "        for t, char in enumerate(a):\n",
    "            encoder_input_data[i, t, input_inv[char]] = 1.0\n",
    "        encoder_input_data[i, t + 1 :, output_inv[\" \"]] = 1.0\n",
    "        for t, char in enumerate(b):\n",
    "            decoder_input_data[i, t, output_inv[char]] = 1.0\n",
    "            if t > 0:\n",
    "                decoder_target_data[i, t - 1, output_inv[char]] = 1.0\n",
    "        decoder_input_data[i, t + 1 :, output_inv[\" \"]] = 1.0\n",
    "        decoder_target_data[i, t:, output_inv[\" \"]] = 1.0\n",
    "    \n",
    "    return encoder_input_data, decoder_input_data, decoder_target_data"
   ]
  },
  {
   "cell_type": "code",
   "execution_count": null,
   "metadata": {},
   "outputs": [],
   "source": [
    "def myRNN(latent_dim, num_encoders = 1, num_decoders = 1, embed_dim = 1000, dropout = 0.0, cell_type = 'GRU'):\n",
    "    encoder_inputs = tf.keras.Input(shape=(None, input_v_len))\n",
    "    #encoder_inputs = layers.Embedding(input_dim=input_v_len, output_dim=embed_dim)(encoder_inputs)\n",
    "    \n",
    "    encoder_inp = encoder_inputs\n",
    "    \n",
    "    for ii in range(num_encoders):\n",
    "        if cell_type == 'LSTM':\n",
    "            encoder = layers.LSTM(latent_dim, return_state=True, return_sequences=True)\n",
    "            encoder_inp, state_h, state_C = encoder(encoder_inp)\n",
    "            encoder_states = [state_h, state_c]\n",
    "        else:\n",
    "            if cell_type == 'RNN':\n",
    "                encoder = layers.SimpleRNN(latent_dim, return_state=True, return_sequences=True)\n",
    "            else:\n",
    "                encoder = layers.GRU(latent_dim, return_state=True, return_sequences=True)\n",
    "            encoder_inp, state_h = encoder(encoder_inp)\n",
    "            encoder_states = [state_h]\n",
    "    \n",
    "    decoder_inputs = tf.keras.Input(shape=(None, output_v_len))\n",
    "    #decoder_inputs = layers.Embedding(input_dim=output_v_len, output_dim=embed_dim)(decoder_inputs)\n",
    "    \n",
    "    decoder_out = decoder_inputs\n",
    "    temp_states = encoder_states\n",
    "    \n",
    "    for ii in range(num_decoders):\n",
    "        if cell_type == 'LSTM':\n",
    "            decoder = layers.LSTM(latent_dim, return_sequences=True, return_state=True)\n",
    "            decoder_out, temp_state_h, temp_state_c = decoder_RNN(decoder_out, initial_state=temp_states)\n",
    "            temp_states = [temp_state_h, temp_state_c]\n",
    "        else:\n",
    "            if cell_type == 'RNN':\n",
    "                decoder = layers.SimpleRNN(latent_dim, return_sequences=True, return_state=True)\n",
    "            else:\n",
    "                decoder = layers.GRU(latent_dim, return_sequences=True, return_state=True)\n",
    "            decoder_out, temp_state_h = decoder(decoder_out, initial_state=temp_states)\n",
    "            temp_states = [temp_state_h]\n",
    "    \n",
    "    decoder_outputs = decoder_out\n",
    "    decoder_dense = layers.Dense(output_v_len, activation=\"softmax\")\n",
    "    decoder_dense_drop = layers.Dropout(dropout)(decoder_outputs)\n",
    "    decoder_outputs = decoder_dense(decoder_dense_drop)\n",
    "\n",
    "    model = tf.keras.Model([encoder_inputs, decoder_inputs], decoder_outputs)\n",
    "    \n",
    "    return model"
   ]
  },
  {
   "cell_type": "code",
   "execution_count": null,
   "metadata": {},
   "outputs": [],
   "source": [
    "model = myRNN(128, 3, 3)"
   ]
  },
  {
   "cell_type": "code",
   "execution_count": null,
   "metadata": {},
   "outputs": [],
   "source": [
    "model.summary()"
   ]
  },
  {
   "cell_type": "code",
   "execution_count": null,
   "metadata": {},
   "outputs": [],
   "source": [
    "def train(model, batch_size=64, epochs=25):\n",
    "    model.compile(optimizer=\"nadam\", loss=\"categorical_crossentropy\", metrics=[\"accuracy\"])\n",
    "    \n",
    "    aa, bb, cc = onehot(X_train, y_train)\n",
    "    model.fit([aa, bb], cc, batch_size=batch_size, epochs=epochs, validation_split=0.1,callbacks=[WandbCallback()])"
   ]
  },
  {
   "cell_type": "code",
   "execution_count": null,
   "metadata": {},
   "outputs": [],
   "source": [
    "train(model)"
   ]
  },
  {
   "cell_type": "code",
   "execution_count": null,
   "metadata": {},
   "outputs": [],
   "source": [
    "def decompose(model):\n",
    "    latent_dim = model.layers[3].units\n",
    "    \n",
    "    encoder_inputs = model.input[0]\n",
    "    _, state_h_enc = model.layers[2].output\n",
    "    encoder_states = [state_h_enc]\n",
    "    encoder_model = tf.keras.Model(encoder_inputs, encoder_states)\n",
    "\n",
    "    decoder_inputs = model.input[1]\n",
    "    decoder_state_input_h = tf.keras.Input(shape=(latent_dim,), name=\"input_3\")\n",
    "    decoder_states_inputs = [decoder_state_input_h]\n",
    "    decoder_RNN = model.layers[3]\n",
    "    decoder_outputs, state_h_dec = decoder_RNN(decoder_inputs, initial_state=decoder_states_inputs)\n",
    "    decoder_states = [state_h_dec]\n",
    "    decoder_dropout = model.layers[4]\n",
    "    decoder_outputs = decoder_dropout(decoder_outputs)\n",
    "    decoder_dense = model.layers[5]\n",
    "    decoder_outputs = decoder_dense(decoder_outputs)\n",
    "    decoder_model = tf.keras.Model([decoder_inputs] + decoder_states_inputs, [decoder_outputs] + decoder_states)\n",
    "    \n",
    "    return encoder_model, decoder_model"
   ]
  },
  {
   "cell_type": "code",
   "execution_count": null,
   "metadata": {},
   "outputs": [],
   "source": [
    "ok, okok = decompose(model)\n",
    "ok.summary()\n",
    "okok.summary()"
   ]
  },
  {
   "cell_type": "code",
   "execution_count": null,
   "metadata": {},
   "outputs": [],
   "source": [
    "print(ok.input.shape, ok.output.shape)\n",
    "print(okok.input[0].shape, okok.input[1].shape, okok.output[0].shape, okok.output[1].shape)"
   ]
  },
  {
   "cell_type": "code",
   "execution_count": null,
   "metadata": {},
   "outputs": [],
   "source": [
    "# Decode the sequence\n",
    "\n",
    "reverse_inp = dict((i, char) for char, i in input_inv.items())\n",
    "reverse_out = dict((i, char) for char, i in output_inv.items())\n",
    "\n",
    "def decode_sequence(model, input_seq):\n",
    "    \n",
    "    encoder_model, decoder_model = decompose(model)\n",
    "    \n",
    "    enc_states = encoder_model.predict(input_seq)\n",
    "\n",
    "    target_seq = np.zeros((1, 1, output_v_len))\n",
    "    target_seq[0, 0, output_inv[\" \"]] = 1.0\n",
    "\n",
    "    stop_condition = False\n",
    "    final_ans = \"\"\n",
    "    while not stop_condition:\n",
    "        output_chars, h = decoder_model.predict([target_seq] + [enc_states])\n",
    "\n",
    "        sampled_char_index = np.argmax(output_chars[0, -1, :])\n",
    "        sampled_char = reverse_out[sampled_char_index]\n",
    "        final_ans += sampled_char\n",
    "\n",
    "        if sampled_char == \" \" or len(final_ans) > max_output_len:\n",
    "            stop_condition = True\n",
    "\n",
    "        target_seq = np.zeros((1, 1, output_v_len))\n",
    "        target_seq[0, 0, sampled_char_index] = 1.0\n",
    "\n",
    "        enc_states = [h]\n",
    "    return final_ans"
   ]
  },
  {
   "cell_type": "code",
   "execution_count": null,
   "metadata": {},
   "outputs": [],
   "source": [
    "n = 50\n",
    "aa, bb, cc = onehot(X_train, y_train)\n",
    "decode_sequence(model, aa[n:n+1])"
   ]
  },
  {
   "cell_type": "code",
   "execution_count": null,
   "metadata": {},
   "outputs": [],
   "source": [
    "list(np.array([[1, 2], [1, 2]]))"
   ]
  },
  {
   "cell_type": "code",
   "execution_count": null,
   "metadata": {},
   "outputs": [],
   "source": [
    "sweep_config = {\n",
    "    'method': 'random',\n",
    "    'metric': {\n",
    "        'name': 'accuracy',\n",
    "        'goal': 'maximize'\n",
    "    },\n",
    "    'parameters': {\n",
    "        'hidden_layer_size': {\n",
    "            'values': [\n",
    "                16, 64, 128, 256\n",
    "            ],\n",
    "        },\n",
    "        'num_encoders': {\n",
    "            'values': [1, 2, 3]\n",
    "        },\n",
    "        'num_decoders': {\n",
    "            'values': [1, 2, 3]\n",
    "        },\n",
    "        'dropout': {\n",
    "            'values': [0.0, 0.2, 0.3]\n",
    "        },\n",
    "        'cell_type': {\n",
    "            'values': ['RNN', 'LSTM', 'GRU']\n",
    "        },\n",
    "        'num_epochs': {\n",
    "            'values': [30, 45, 60]\n",
    "        }\n",
    "    }\n",
    "}"
   ]
  },
  {
   "cell_type": "code",
   "execution_count": null,
   "metadata": {},
   "outputs": [],
   "source": [
    "\n",
    "sweep_id = wandb.sweep(sweep_config, entity = '0x2e4', project = 'cs6910-a3')"
   ]
  },
  {
   "cell_type": "code",
   "execution_count": null,
   "metadata": {},
   "outputs": [],
   "source": [
    "\n",
    "def run():\n",
    "    default_config = {'hidden_layer_size': 16, 'num_encoders': 1, 'num_decoders': 1, 'dropout': 0.0, 'cell_type': 'RNN', 'num_epochs': 30}\n",
    "\n",
    "    run = wandb.init(project='cs6910-a3', config=default_config)\n",
    "    config = wandb.config\n",
    "\n",
    "    model = myRNN(latent_dim=config.hidden_layer_size, num_encoders = config.num_encoders, num_decoders = config.num_decoders, dropout = config.dropout, cell_type = config.cell_type)\n",
    "\n",
    "    optimizer = tf.keras.optimizers.Nadam()\n",
    "    loss_fn = tf.keras.losses.CategoricalCrossentropy(from_logits=True)\n",
    "\n",
    "    train(model, config.num_epochs)"
   ]
  },
  {
   "cell_type": "code",
   "execution_count": null,
   "metadata": {},
   "outputs": [],
   "source": [
    "\n",
    "wandb.agent(sweep_id, run)"
   ]
  },
  {
   "cell_type": "code",
   "execution_count": null,
   "metadata": {},
   "outputs": [],
   "source": []
  }
 ],
 "metadata": {
  "kernelspec": {
   "display_name": "Python 3",
   "language": "python",
   "name": "python3"
  },
  "language_info": {
   "codemirror_mode": {
    "name": "ipython",
    "version": 3
   },
   "file_extension": ".py",
   "mimetype": "text/x-python",
   "name": "python",
   "nbconvert_exporter": "python",
   "pygments_lexer": "ipython3",
   "version": "3.8.5"
  }
 },
 "nbformat": 4,
 "nbformat_minor": 5
}
