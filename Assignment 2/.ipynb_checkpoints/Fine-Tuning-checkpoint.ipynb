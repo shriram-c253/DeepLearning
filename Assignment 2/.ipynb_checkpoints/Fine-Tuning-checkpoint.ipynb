{
 "cells": [
  {
   "cell_type": "code",
   "execution_count": null,
   "metadata": {},
   "outputs": [],
   "source": [
    "# Imports\n",
    "\n",
    "import tensorflow as tf\n",
    "from tensorflow.keras import datasets, models, layers, applications\n",
    "from sklearn.model_selection import train_test_split\n",
    "import wandb\n",
    "from wandb.keras import WandbCallback\n",
    "from matplotlib import image\n",
    "import os\n",
    "import numpy as np\n",
    "from tensorflow.keras.preprocessing.image import ImageDataGenerator"
   ]
  },
  {
   "cell_type": "code",
   "execution_count": null,
   "metadata": {},
   "outputs": [],
   "source": [
    "# Setting up an input flow\n",
    "\n",
    "dataset_path = \"../../nature_12K/inaturalist_12K\"\n",
    "train_path = dataset_path + \"/train\"\n",
    "test_path = dataset_path + \"/val\"\n",
    "max_shape = (256, 256, 3)\n",
    "\n",
    "data_train = ImageDataGenerator(validation_split=0.1)\n",
    "\n",
    "data_test = ImageDataGenerator()\n",
    "\n",
    "train_generator = data_train.flow_from_directory(train_path,\n",
    "                                                 target_size=(max_shape[0],\n",
    "                                                              max_shape[1]),\n",
    "                                                 class_mode='categorical',\n",
    "                                                 subset='training')\n",
    "\n",
    "validation_generator = data_train.flow_from_directory(\n",
    "    train_path,\n",
    "    target_size=(max_shape[0], max_shape[1]),\n",
    "    class_mode='categorical',\n",
    "    subset='validation')\n",
    "\n",
    "test_generator = data_test.flow_from_directory(test_path,\n",
    "                                               target_size=(max_shape[0],\n",
    "                                                            max_shape[1]),\n",
    "                                               class_mode='categorical')"
   ]
  },
  {
   "cell_type": "code",
   "execution_count": null,
   "metadata": {},
   "outputs": [],
   "source": [
    "# A Function that can generate a CNN modified from a pre-trained model\n",
    "\n",
    "def finetuneCNN(model_name, retrain):\n",
    "    base_model = eval(\n",
    "        'applications' + model_name +\n",
    "        '(input_shape=max_shape, include_top=False, weights=\\'imagenet\\')')\n",
    "    base_model.trainable = True\n",
    "    non_train = int((1 - retrain) * len(base_model.layers))\n",
    "    for layer in base_model.layers[:non_train]:\n",
    "        layer.trainable = False\n",
    "\n",
    "    inputs = tf.keras.Input(shape=max_shape)\n",
    "    x = inputs\n",
    "    x = base_model(x)\n",
    "    global_average_layer = layers.GlobalAveragePooling2D()\n",
    "    x = global_average_layer(x)\n",
    "    prediction_layer = layers.Dense(10)\n",
    "    outputs = prediction_layer(x)\n",
    "    model = tf.keras.Model(inputs, outputs)\n",
    "    return model"
   ]
  },
  {
   "cell_type": "code",
   "execution_count": null,
   "metadata": {},
   "outputs": [],
   "source": [
    "# A training function to compile and train the new model\n",
    "\n",
    "def train(model, optimizer, loss_fn):\n",
    "    model.compile(optimizer=optimizer, loss=loss_fn, metrics=['accuracy'])\n",
    "    model.fit(train_generator,\n",
    "              epochs=10,\n",
    "              validation_data=validation_generator,\n",
    "              callbacks=[WandbCallback()])"
   ]
  },
  {
   "cell_type": "code",
   "execution_count": null,
   "metadata": {},
   "outputs": [],
   "source": [
    "# Setting up hyperparameters for the sweep\n",
    "\n",
    "sweep_config = {\n",
    "    'method': 'grid',\n",
    "    'metric': {\n",
    "        'name': 'accuracy',\n",
    "        'goal': 'maximize'\n",
    "    },\n",
    "    'parameters': {\n",
    "        'model': {\n",
    "            'values': [\n",
    "                'InceptionV3', 'InceptionResNetV2', 'ResNet50', 'Xception',\n",
    "                'NASNetLarge'\n",
    "            ]\n",
    "        },\n",
    "        'retrain': {\n",
    "            'values': [0.1, 0.15, 0.2]\n",
    "        }\n",
    "    }\n",
    "}\n"
   ]
  },
  {
   "cell_type": "code",
   "execution_count": null,
   "metadata": {},
   "outputs": [],
   "source": [
    "# Setting up a sweep\n",
    "\n",
    "sweep_id = wandb.sweep(sweep_config, entity = '0x2e4', project = 'cs6910-a2')"
   ]
  },
  {
   "cell_type": "code",
   "execution_count": null,
   "metadata": {},
   "outputs": [],
   "source": [
    "# Creating a sweep runner function\n",
    "\n",
    "def run():\n",
    "    default_config = {'model': 'InceptionResNetV2', 'retrain': 0.1}\n",
    "\n",
    "    run = wandb.init(project='cs6910-a2', config=default_config)\n",
    "    config = wandb.config\n",
    "\n",
    "    model = finetuneCNN(model_name=config.model, retrain=config.retrain)\n",
    "\n",
    "    optimizer = tf.keras.optimizers.Nadam()\n",
    "    loss_fn = tf.keras.losses.CategoricalCrossentropy(from_logits=True)\n",
    "\n",
    "    train(model, optimizer, loss_fn)"
   ]
  },
  {
   "cell_type": "code",
   "execution_count": null,
   "metadata": {},
   "outputs": [],
   "source": [
    "# Creating a wandb agent\n",
    "\n",
    "wandb.agent(sweep_id, run)"
   ]
  }
 ],
 "metadata": {
  "kernelspec": {
   "display_name": "Python 3",
   "language": "python",
   "name": "python3"
  },
  "language_info": {
   "codemirror_mode": {
    "name": "ipython",
    "version": 3
   },
   "file_extension": ".py",
   "mimetype": "text/x-python",
   "name": "python",
   "nbconvert_exporter": "python",
   "pygments_lexer": "ipython3",
   "version": "3.8.5"
  }
 },
 "nbformat": 4,
 "nbformat_minor": 5
}
